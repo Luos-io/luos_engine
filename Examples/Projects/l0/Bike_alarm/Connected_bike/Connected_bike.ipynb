{
 "cells": [
  {
   "cell_type": "code",
   "execution_count": null,
   "metadata": {},
   "outputs": [],
   "source": [
    "from pyluos import Device\n",
    "import time\n",
    "from IPython.display import clear_output\n",
    "from pythreejs import *\n",
    "import vizu\n",
    "import threading\n",
    "import numpy\n",
    "\n",
    "# Connect your Luos network (here using an USB module)\n",
    "bike = Device('/dev/cu.usbserial-DN05NM1H')\n",
    "print(bike.services)\n",
    "\n",
    "if hasattr(bike, 'gps'):\n",
    "    bike_mesh = vizu.vizu()\n",
    "\n",
    "def orientation():\n",
    "    if hasattr(bike, 'gps'):\n",
    "        bike.gps.quaternion = False\n",
    "        bike.gps.gyro = True\n",
    "        bike.gps.euler = True\n",
    "        while True:\n",
    "            euler = bike.gps.euler\n",
    "            euler = numpy.deg2rad(euler)\n",
    "            bike_mesh.rotation = (euler[1], euler[2], euler[0], 'XYZ')\n",
    "            time.sleep(0.05)\n",
    "    else :\n",
    "        print (\"no GPS found on bike\")\n",
    "        \n",
    "orientation_manager = threading.Thread(target=orientation)\n",
    "orientation_manager.daemon = True\n",
    "orientation_manager.start()"
   ]
  },
  {
   "cell_type": "code",
   "execution_count": null,
   "metadata": {},
   "outputs": [],
   "source": [
    "# fake a button push to unlock the bike\n",
    "bike.start_control.state = False"
   ]
  },
  {
   "cell_type": "code",
   "execution_count": null,
   "metadata": {},
   "outputs": [],
   "source": [
    "# display topology\n",
    "print(bike.nodes)"
   ]
  },
  {
   "cell_type": "code",
   "execution_count": null,
   "metadata": {},
   "outputs": [],
   "source": [
    "# force alarm to start (play) but start_control app steel have control.\n",
    "bike.alarm_control.play()"
   ]
  },
  {
   "cell_type": "code",
   "execution_count": null,
   "metadata": {},
   "outputs": [],
   "source": [
    "# force alarm to stop but start_control app steel have control.\n",
    "bike.alarm_control.stop()"
   ]
  },
  {
   "cell_type": "code",
   "execution_count": null,
   "metadata": {},
   "outputs": [],
   "source": [
    "# Force led color\n",
    "bike.alarm.color = [30, 30, 30]"
   ]
  },
  {
   "cell_type": "code",
   "execution_count": null,
   "metadata": {},
   "outputs": [],
   "source": [
    "# fake a button push to lock the bike\n",
    "bike.start_control.state = True"
   ]
  }
 ],
 "metadata": {
  "kernelspec": {
   "display_name": "Python 3",
   "language": "python",
   "name": "python3"
  },
  "language_info": {
   "codemirror_mode": {
    "name": "ipython",
    "version": 3
   },
   "file_extension": ".py",
   "mimetype": "text/x-python",
   "name": "python",
   "nbconvert_exporter": "python",
   "pygments_lexer": "ipython3",
   "version": "3.8.6"
  }
 },
 "nbformat": 4,
 "nbformat_minor": 2
}
